{
  "nbformat": 4,
  "nbformat_minor": 0,
  "metadata": {
    "colab": {
      "name": "Maze_Runner.ipynb",
      "version": "0.3.2",
      "provenance": []
    },
    "kernelspec": {
      "name": "python3",
      "display_name": "Python 3"
    },
    "accelerator": "GPU"
  },
  "cells": [
    {
      "metadata": {
        "id": "DkCu0mrhUC5h",
        "colab_type": "text"
      },
      "cell_type": "markdown",
      "source": [
        "## Initialization (Import packages and class)"
      ]
    },
    {
      "metadata": {
        "id": "Y2G9a3XPAnmm",
        "colab_type": "code",
        "colab": {}
      },
      "cell_type": "code",
      "source": [
        "# Import necessary packages\n",
        "import numpy as np\n",
        "import tensorflow as tf\n",
        "import matplotlib.pyplot as plt\n",
        "\n",
        "# Properties of the agent, environment (the maze) and the reward signal (reward map)\n",
        "class RLAgent(object):\n",
        "    def __init__(self, ini_state):\n",
        "        self.state_map = np.arange(25).reshape((5,5))\n",
        "        self.current_state = ini_state\n",
        "        self.current_y, self.current_x = self.__findIndex()\n",
        "        self.reward_map = self.__createRewardMap()\n",
        "    \n",
        "    # if a step (action) is taken by the agent, current state will be incremented, also, its location in the state_map will change\n",
        "    def step(self, action):\n",
        "        self.previous_state = self.current_state\n",
        "        if action == \"u\" or action == 0:\n",
        "            self.current_y -= 1\n",
        "        elif action == \"d\" or action == 1:\n",
        "            self.current_y += 1\n",
        "        elif action == \"l\" or action == 2:\n",
        "            self.current_x -= 1\n",
        "        elif action == \"r\" or action == 3:\n",
        "            self.current_x += 1\n",
        "        elif action == \"s\":\n",
        "            print(\"goal arrived\")\n",
        "        self.current_state = self.state_map[self.current_y, self.current_x]\n",
        "    def __findIndex(self):\n",
        "        indexes = np.where(self.state_map == self.current_state)\n",
        "        return int(indexes[0]), int(indexes[1])\n",
        "    \n",
        "    # Return the current location of the agent as x,y cooridinate in the state_map\n",
        "    def getCoor(self):\n",
        "        return (self.current_y, self.current_x)\n",
        "    \n",
        "    # The agent cannot step outside of the boundary, therefore, at the boundary the action is restrained\n",
        "    def getNextDirection(self):\n",
        "        if self.current_state in [1,2,3]:\n",
        "            return (\"d\", \"l\", \"r\")\n",
        "        elif self.current_state in [5,10,15]:\n",
        "            return (\"u\", \"d\", \"r\")\n",
        "        elif self.current_state in [9,14,19]:\n",
        "            return (\"u\", \"d\", \"l\")\n",
        "        elif self.current_state in [21,22,23]:\n",
        "            return (\"u\", \"l\", \"r\")\n",
        "        elif self.current_state == 0:\n",
        "            return (\"r\", \"d\")\n",
        "        elif self.current_state == 4:\n",
        "            return (\"l\", \"d\")\n",
        "        elif self.current_state == 20:\n",
        "            return (\"u\", \"r\")\n",
        "        elif self.current_state == 24:\n",
        "            return (\"l\", \"u\")\n",
        "        else:\n",
        "            return (\"u\", \"d\", \"l\", \"r\")\n",
        "\n",
        "    @staticmethod\n",
        "    def __createRewardMap():\n",
        "        reward_points = [(0,1), (1,1), (2,1), (2,3), (3,3), (4,3), (4,4)]\n",
        "        reward_map = np.zeros((5,5))\n",
        "        for point in reward_points:\n",
        "            if point != (4,4):\n",
        "                reward_map[point] = -2500\n",
        "            else:\n",
        "                reward_map[point] = 500\n",
        "        return reward_map\n",
        "\n"
      ],
      "execution_count": 0,
      "outputs": []
    },
    {
      "metadata": {
        "id": "w-Iy6K-iIt88",
        "colab_type": "text"
      },
      "cell_type": "markdown",
      "source": [
        "## State Map and Reward Map  \n",
        "The current state of the agent represents its current location in the _5_ _x_ _5_ maze. The states are indexed by numbers from 0 to 24, corresponding to 25 positions in the maze (as shown in the \"state map\" below). The states are also indexed by numpy array indexes, for example, state 13 = state_map [ 2 , 3 ].\n",
        "\n",
        "During calculation, we use a 25 x 25 state matrix to contain the 25 one-hot column vectors, each representing the $n_{th}$  state with value of 1 at the $n_{th}$ row.\n",
        "\n",
        "In the reward map, the value represents the reward obtained by the agent after it selects an action and steps on there. The negative reward (punishment) represents the **_wall_** that the agent should not pass through, while the positive reward represents the **_goal_** that the agent needs to arrive.\n"
      ]
    },
    {
      "metadata": {
        "id": "4Y_nW4YsJH9F",
        "colab_type": "code",
        "colab": {
          "base_uri": "https://localhost:8080/",
          "height": 230
        },
        "outputId": "9be1c3a3-c688-4755-aa88-e8cab17ff1c4"
      },
      "cell_type": "code",
      "source": [
        "test_agent = RLAgent(0)\n",
        "print(\"State Map\")\n",
        "print(np.arange(25).reshape(5,5))\n",
        "print(\"Reward Map\")\n",
        "print(test_agent.reward_map)"
      ],
      "execution_count": 100,
      "outputs": [
        {
          "output_type": "stream",
          "text": [
            "State Map\n",
            "[[ 0  1  2  3  4]\n",
            " [ 5  6  7  8  9]\n",
            " [10 11 12 13 14]\n",
            " [15 16 17 18 19]\n",
            " [20 21 22 23 24]]\n",
            "Reward Map\n",
            "[[    0. -2500.     0.     0.     0.]\n",
            " [    0. -2500.     0.     0.     0.]\n",
            " [    0. -2500.     0. -2500.     0.]\n",
            " [    0.     0.     0. -2500.     0.]\n",
            " [    0.     0.     0. -2500.   500.]]\n"
          ],
          "name": "stdout"
        }
      ]
    },
    {
      "metadata": {
        "id": "DOHkzBx4XGop",
        "colab_type": "code",
        "colab": {
          "base_uri": "https://localhost:8080/",
          "height": 35
        },
        "outputId": "eba8ceb6-5976-4037-ba6d-3ce61f65a846"
      },
      "cell_type": "code",
      "source": [
        "\n",
        "# Each key represents a direction the agent is going. \n",
        "# \"u\" = moving up, \"d\" = down, \"l\" = left, \"r\" = right\n",
        "# The output Q (4 x 1 Matrix) is defined as Q value for each action (totally 4 actions)\n",
        "# Two dictionaries are used to map between indexes of Q and the action keys\n",
        "key_to_index = {\"u\": 0, \"d\": 1, \"l\":2, \"r\":3}\n",
        "index_to_key = {0:\"u\", 1:\"d\", 2:\"l\", 3:\"r\"}\n",
        "\n",
        "# One-hot vector for each state. Each state represents one unique position in the grid\n",
        "state_matrix = np.zeros((25,25))\n",
        "for i in range(25):\n",
        "    state_matrix[i, i] = 1\n",
        "\n",
        "# Hyperarameters (fine tuned for this project)\n",
        "learning_rate = 0.00001\n",
        "num_episode = 500\n",
        "num_iter = 100\n",
        "gamma = 0.9\n",
        "e = 0.7\n",
        "e_initial = e\n",
        "\n",
        "# Network Parameters\n",
        "n_hidden_1 = 256 \n",
        "num_states = 25 \n",
        "num_actions = 4\n",
        "\n",
        "def createParameters():\n",
        "    weights = {\n",
        "        'h1': tf.Variable(tf.random_normal([n_hidden_1, num_states])),\n",
        "        'out': tf.Variable(tf.random_normal([num_actions, n_hidden_1]))\n",
        "    }\n",
        "    biases = {\n",
        "        'b1': tf.Variable(tf.random_normal([n_hidden_1,1])),\n",
        "        'out': tf.Variable(tf.random_normal([num_actions,1]))\n",
        "    }\n",
        "    return weights, biases\n",
        "\n",
        "def forwardProp(x, weights, biases):\n",
        "    \n",
        "    # Hidden fully connected layer with 256 neurons\n",
        "    layer_1 = tf.add(tf.matmul(weights['h1'], x), biases['b1'])\n",
        "    layer_1 = tf.nn.relu(layer_1)\n",
        "    \n",
        "    # Output fully connected layer with a neuron for each class\n",
        "    out_layer = tf.matmul(weights['out'], layer_1) + biases['out']\n",
        "    return out_layer\n",
        "\n",
        "# Construct model & Output\n",
        "weights, biases = createParameters()\n",
        "X_input = tf.placeholder(shape=[num_states, 1], dtype=tf.float32)\n",
        "Q_next_state = tf.placeholder(shape=[num_actions, 1],dtype=tf.float32)\n",
        "Qout = forwardProp(X_input, weights, biases)\n",
        "\n",
        "# Find the index of the action which has the highest score in output matrix Q\n",
        "first_action = tf.argmax(Qout,0)\n",
        "\n",
        "# Define loss and optimizer\n",
        "loss = (1/num_actions)*tf.reduce_sum(tf.square(Q_next_state - Qout))\n",
        "trainer = tf.train.GradientDescentOptimizer(learning_rate=learning_rate)\n",
        "updateWeights = trainer.minimize(loss)\n",
        "\n",
        "# Initialize the variables\n",
        "init = tf.global_variables_initializer()\n",
        "sess = tf.Session()\n",
        "sess.run(init)\n",
        "\n",
        "# Record Cost\n",
        "cost_list_iter = []\n",
        "cost_list_episode = []\n",
        "\n",
        "# -----------------------------------------------Start Training----------------------------------------------------\n",
        "\n",
        "# There are num_episode of games. Each time the agent state is reset to 0 (starting point)\n",
        "for j in range(num_episode):\n",
        "    agent = RLAgent(0)\n",
        "    \n",
        "    # Each game episode is iterated for num_iter times\n",
        "    for i in range(num_iter):\n",
        "        \n",
        "        # Feedforward to the network, and output the action choices (the scores of all actions) and the first choice\n",
        "        first_Q_idx, Q1 = sess.run([first_action, Qout],feed_dict={X_input:state_matrix[:,agent.current_state].reshape((25,1))})\n",
        "        \n",
        "        # Define the best action at the current state\n",
        "        first_Q_idx = first_Q_idx[0]\n",
        "        first_Q_key = index_to_key[first_Q_idx]\n",
        "        \n",
        "        # agent.getNextDirection() returns the allowed direction of step at the current state, such that it will not step outside of the 5 x 5 matrix map\n",
        "        next_direction = agent.getNextDirection()\n",
        "        \n",
        "        # There is e chance that the agent will step in a random direction\n",
        "        # The condition on the right is to ensure the best action \"first_Q_key\" is in the allowed choices\n",
        "        if np.random.rand(1) < e or (first_Q_key not in next_direction):\n",
        "            \n",
        "            # Select randomly from the set of allowed directions\n",
        "            rand_index = np.random.randint(0, len(next_direction))\n",
        "            Q_index = key_to_index[next_direction[rand_index]]\n",
        "        else:\n",
        "            \n",
        "            # Select the best action (with highest Q value)\n",
        "            Q_index = first_Q_idx\n",
        "\n",
        "        # Agent goes to the next state based on the selected action above\n",
        "        agent.step(Q_index)\n",
        "        \n",
        "        # Get the reward at the current state. Reward < 0 when the path is undesirable, and vice versa\n",
        "        coordinates = agent.getCoor()\n",
        "        reward = agent.reward_map[coordinates[0], coordinates[1]]\n",
        "        \n",
        "        # Calculate the ouput Q-matrix for the next state\n",
        "        Q2 = sess.run(Qout,feed_dict={X_input:state_matrix[:,agent.current_state].reshape((25,1))})\n",
        "        \n",
        "        # Subsitute the current Q value of the selected action with the best Q value of the next state, with discount of gamma <= 1\n",
        "        Q_target = Q1\n",
        "        Q_target[Q_index,0] = reward + gamma * np.max(Q2)\n",
        "        \n",
        "        # Update the weights by back propagation. \n",
        "        # Since the state has been incremented, we backpropagate the \"previous_state\" remembered by the agent object instead\n",
        "        _,loss_val = sess.run([updateWeights,loss],feed_dict={X_input:state_matrix[:,agent.previous_state].reshape((25,1)),Q_next_state:Q_target})\n",
        "        cost_list_iter.append(loss_val)\n",
        "        \n",
        "        # Print the progress if you want\n",
        "        print(\"\\r Iter/Episode = %d/%d\" % (i, j), end = \"\")\n",
        "        # print(\"Iter/Episode = %d/%d | state = %d | Loss = %f\" % (i, j, agent.current_state, loss_val))\n",
        "    \n",
        "    # Record the cost\n",
        "    if len(cost_list_iter) != 0:\n",
        "        cost_list_episode.append(np.mean(cost_list_iter))\n",
        "        cost_list_iter = []\n"
      ],
      "execution_count": 101,
      "outputs": [
        {
          "output_type": "stream",
          "text": [
            " Iter/Episode = 99/499"
          ],
          "name": "stdout"
        }
      ]
    },
    {
      "metadata": {
        "id": "s3MQirLaQgm4",
        "colab_type": "text"
      },
      "cell_type": "markdown",
      "source": [
        "## Testing the agent\n",
        "\n",
        "After the training above, the agent will start to navigate through the maze and try to avoid the wall. It will stop when it arrive the goal. \n",
        "\n"
      ]
    },
    {
      "metadata": {
        "id": "xcUDPCw_YIpT",
        "colab_type": "code",
        "colab": {
          "base_uri": "https://localhost:8080/",
          "height": 515
        },
        "outputId": "0441e29e-8aaf-474c-a5c1-8687be4366ee"
      },
      "cell_type": "code",
      "source": [
        "print(\"\\nTesting phase starts\")\n",
        "# Reset the agent to the state of 0 (top-left corner)\n",
        "agent = RLAgent(0)\n",
        "for i in range(50):\n",
        "    print(\"Current state = \", agent.current_state)\n",
        "    if agent.current_state == 24:\n",
        "        print(\"Goal arrived! Game ends.\")\n",
        "        break\n",
        "        \n",
        "    # Forward propagate and get the output Q values\n",
        "    Q_values = sess.run(Qout,feed_dict={X_input:state_matrix[:,agent.current_state].reshape((25,1))})\n",
        "    \n",
        "    # Sort the values of Q, such that it contains the indexes of actions by a descending order of scores\n",
        "    Q_sorted = np.flip(np.argsort(Q_values.squeeze()),axis = 0)\n",
        "    \n",
        "    # Get the allowed directions in the current state\n",
        "    next_direction = agent.getNextDirection()\n",
        "    \n",
        "    # initalise the varible that will store the best action we take\n",
        "    action_key = 99\n",
        "    \n",
        "    # We check each action in Q_sorted and see if it is in one of the allowed directions.\n",
        "    # The action with higher Q-value will be checked first, once we know it is in the allowed directions, we select that action and exit the loop\n",
        "    for j in Q_sorted:\n",
        "        \n",
        "        # Once an action is selected, exit the loop\n",
        "        if action_key != 99:\n",
        "            break\n",
        "            \n",
        "        # If the action is in the allowed direction, store it into action_key\n",
        "        if index_to_key[j] in next_direction:\n",
        "            action_key = index_to_key[j]\n",
        "            \n",
        "        # If not, then check the next action\n",
        "        else:\n",
        "            continue\n",
        "            \n",
        "    # Showing Q-matrix and how the agent select the action\n",
        "    print(\"Q_val = %s | Q_sorted = %s | Action_selected = %s | Allowed_direction  = %s\" % (str(Q_values.squeeze()), str(Q_sorted), action_key, str(next_direction)))\n",
        "\n",
        "    # Increment the state\n",
        "    agent.step(action_key)\n",
        "sess.close()\n"
      ],
      "execution_count": 102,
      "outputs": [
        {
          "output_type": "stream",
          "text": [
            "\n",
            "Testing phase starts\n",
            "Current state =  0\n",
            "Q_val = [  917.1399    839.6483    157.50754 -1245.1111 ] | Q_sorted = [0 1 2 3] | Action_selected = d | Allowed_direction  = ('r', 'd')\n",
            "Current state =  5\n",
            "Q_val = [  837.83484   931.01434   236.91077 -1096.4092 ] | Q_sorted = [1 0 2 3] | Action_selected = d | Allowed_direction  = ('u', 'd', 'r')\n",
            "Current state =  10\n",
            "Q_val = [  853.7756   1033.3984    317.40417 -1241.5067 ] | Q_sorted = [1 0 2 3] | Action_selected = d | Allowed_direction  = ('u', 'd', 'r')\n",
            "Current state =  15\n",
            "Q_val = [ 965.4726  1057.8718   891.30176 1147.8936 ] | Q_sorted = [3 1 0 2] | Action_selected = r | Allowed_direction  = ('u', 'd', 'r')\n",
            "Current state =  16\n",
            "Q_val = [-1260.3595  1093.3849  1053.3876  1263.9978] | Q_sorted = [3 1 2 0] | Action_selected = r | Allowed_direction  = ('u', 'd', 'l', 'r')\n",
            "Current state =  17\n",
            "Q_val = [1401.4305  1132.8987  1140.3348  -366.72406] | Q_sorted = [0 2 1 3] | Action_selected = u | Allowed_direction  = ('u', 'd', 'l', 'r')\n",
            "Current state =  12\n",
            "Q_val = [ 1557.4056  1259.7394 -1246.6411  -574.2914] | Q_sorted = [0 1 3 2] | Action_selected = u | Allowed_direction  = ('u', 'd', 'l', 'r')\n",
            "Current state =  7\n",
            "Q_val = [ 1396.8712  1400.162  -1100.1766  1729.5966] | Q_sorted = [3 1 0 2] | Action_selected = r | Allowed_direction  = ('u', 'd', 'l', 'r')\n",
            "Current state =  8\n",
            "Q_val = [1537.552   -575.43896 1554.887   1918.7146 ] | Q_sorted = [3 2 0 1] | Action_selected = r | Allowed_direction  = ('u', 'd', 'l', 'r')\n",
            "Current state =  9\n",
            "Q_val = [1714.7643 2132.9224 1731.73    673.5071] | Q_sorted = [1 2 0 3] | Action_selected = d | Allowed_direction  = ('u', 'd', 'l')\n",
            "Current state =  14\n",
            "Q_val = [1919.4647   2369.3828   -576.7573     33.141823] | Q_sorted = [1 0 3 2] | Action_selected = d | Allowed_direction  = ('u', 'd', 'l')\n",
            "Current state =  19\n",
            "Q_val = [2133.1404  2632.8958  -363.69342 -259.85788] | Q_sorted = [1 0 3 2] | Action_selected = d | Allowed_direction  = ('u', 'd', 'l')\n",
            "Current state =  24\n",
            "Goal arrived! Game ends.\n"
          ],
          "name": "stdout"
        }
      ]
    },
    {
      "metadata": {
        "id": "os3EU2mDZpC8",
        "colab_type": "code",
        "colab": {
          "base_uri": "https://localhost:8080/",
          "height": 361
        },
        "outputId": "34c8d022-5bb5-4bba-ea34-7a4ea7856ad1"
      },
      "cell_type": "code",
      "source": [
        "# Plotting the cost along the episode\n",
        "\n",
        "t_episode = np.arange(len(cost_list_episode)) + 1\n",
        "plt.plot(t_episode, cost_list_episode)\n",
        "plt.xlabel(\"Number of Episode\")\n",
        "plt.ylabel(\"Squared Error\")\n",
        "plt.show()"
      ],
      "execution_count": 103,
      "outputs": [
        {
          "output_type": "display_data",
          "data": {
            "image/png": "[encoded data removed]",
            "text/plain": [
              "<matplotlib.figure.Figure at 0x7f151545bac8>"
            ]
          },
          "metadata": {
            "tags": []
          }
        }
      ]
    },
    {
      "metadata": {
        "id": "_1mCT32JYhtK",
        "colab_type": "text"
      },
      "cell_type": "markdown",
      "source": [
        "## Observations\n",
        "\n",
        "1. Reward of the goal has to be larger if it requires many time steps to arrive. This can be illustrated by reducing the reward of the goal (e.g. 100, while maintaing its ratio with the punishment), the agent will fail to find the goal while circulating around the initial local area (because the goal reward is too far away and cannot influence the Q value of initial state)\n",
        "\n",
        "2. Punishment (negative reward) has to be large for undesired path (e.g. 5 times more than the goal's). Otherwise the agent will choose the undesired path rather than a long detour (e.g. 22 -> 23 -> 24, rather than 22 -> 17 -> 12 -> 7 -> 8 -> 9 -> 14 -> 19 -> 24). Because positive reward is less discounted in fewer time steps. This problem can be illustrated by reducing the ratio of punichment to goal's reward, e.g. from (-2500,500) to (-500,500). In this case, the agent will pass the undesired route with punishment.\n",
        "\n",
        "3. The above two problems can be tuned by the hyperparameter of \"gamma\" (discount of future reward)\n",
        "\n",
        "4. Actions are chosen by the agent either randomly or greedily (the action highest predicted reward is chosen). Randomness of choosing an action during training (hyperparameter \"e\", the probaility of random sampling, as opposed to greedy sampling) could greatly influence the training. \n",
        "    * If e is too low (e ~ 0), the agent will always choose an action solely based on its prediction. As a result, the agent may stuck in some infinite loop, bouncing back between two states, when the Q-values have not yet converaged and they temporarily indicate that the best action at one of the two states is to go to the another state. \n",
        "    * The purpose of higher e in this case is to break away from this infinite loop. On the other hand, if e is too high (e ~ 1), the agent always choose an action randomly, and it may take longer time to reach the goal and require more iterations (slowing down the training).\n",
        "\n",
        "5. Ideally, the hyperparameter e should be replaced by some designed strategy to choose an action during training. The strategy should allow the coveragence of interested states and the reach of goal. \n",
        "    * Possible approach # 1: At each state, retrieve the past memory of how many times the actions have been taken, and then choose the one with fewer times. \n",
        "    * Possible approach #2:  Algorithmicall design the agent to break the loop if it repeats the route too many times.\n",
        "\n",
        "\n",
        "\n",
        "\n",
        "\n"
      ]
    }
  ]
}